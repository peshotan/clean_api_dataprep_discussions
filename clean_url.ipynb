{
 "cells": [
  {
   "cell_type": "code",
   "execution_count": 8,
   "metadata": {},
   "outputs": [],
   "source": [
    "# imports \n",
    "import re \n",
    "from urllib.parse import urlsplit, unquote, urlparse"
   ]
  },
  {
   "cell_type": "markdown",
   "metadata": {},
   "source": [
    "# Discussion about `clean_url`\n",
    "This is very rough draft of the idea, how we want our function to be implemented. Once we have confirmed the implementation I will transform the code in the style dataprep module (for dataframes/series)"
   ]
  },
  {
   "cell_type": "markdown",
   "metadata": {},
   "source": [
    "1) Does the column only contain `url` values or do we have extract `url` values from the text.\n",
    "\n",
    "scenerio 1: we have extract and cleann url data from text \n"
   ]
  },
  {
   "cell_type": "code",
   "execution_count": 16,
   "metadata": {},
   "outputs": [],
   "source": [
    "#example\n",
    "string = \"\"\"\n",
    "        This is a sample string containing a few URLS and\n",
    "        My Profile: www.facebook.com https://auth.sampleOrganaization.org/user/Chinmoy%20Lenka/articles?height=400&weight=20lb in the portal of http://www.HelloWorld.org/?hello=cool&bye=nobye'\n",
    "        \"\"\""
   ]
  },
  {
   "cell_type": "code",
   "execution_count": 17,
   "metadata": {},
   "outputs": [],
   "source": [
    "# function to extract the URLs\n",
    "def find(string): \n",
    "    \"\"\"\n",
    "    returns all urls contained in a text as a list of urls\n",
    "    \"\"\"\n",
    "    regex = r\"(?i)\\b((?:https?://|www\\d{0,3}[.]|[a-z0-9.\\-]+[.][a-z]{2,4}/)(?:[^\\s()<>]+|\\(([^\\s()<>]+|(\\([^\\s()<>]+\\)))*\\))+(?:\\(([^\\s()<>]+|(\\([^\\s()<>]+\\)))*\\)|[^\\s`!()\\[\\]{};:'\\\".,<>?«»“”‘’]))\"\n",
    "    url = re.findall(regex,string)       \n",
    "    return [x[0] for x in url] "
   ]
  },
  {
   "cell_type": "code",
   "execution_count": 18,
   "metadata": {},
   "outputs": [],
   "source": [
    "list_of_urls = find(string)"
   ]
  },
  {
   "cell_type": "code",
   "execution_count": 19,
   "metadata": {},
   "outputs": [
    {
     "data": {
      "text/plain": [
       "['www.facebook.com',\n",
       " 'https://auth.sampleOrganaization.org/user/Chinmoy%20Lenka/articles?height=400&weight=20lb',\n",
       " 'http://www.HelloWorld.org/?hello=cool&bye=nobye']"
      ]
     },
     "execution_count": 19,
     "metadata": {},
     "output_type": "execute_result"
    }
   ],
   "source": [
    "list_of_urls"
   ]
  },
  {
   "cell_type": "code",
   "execution_count": 20,
   "metadata": {},
   "outputs": [
    {
     "data": {
      "text/plain": [
       "['www.facebook.com',\n",
       " 'https://auth.sampleOrganaization.org/user/ChinmoyLenka/articles?height=400&weight=20lb',\n",
       " 'http://www.HelloWorld.org/?hello=cool&bye=nobye']"
      ]
     },
     "execution_count": 20,
     "metadata": {},
     "output_type": "execute_result"
    }
   ],
   "source": [
    "# deconding the URLS (removing % other space , demiliters)\n",
    "cleaned_list = [unquote(urlsplit(x).geturl()).replace(\" \",\"\") for x in list_of_urls]\n",
    "cleaned_list"
   ]
  },
  {
   "cell_type": "markdown",
   "metadata": {},
   "source": [
    "# extracting information from the URL"
   ]
  },
  {
   "cell_type": "markdown",
   "metadata": {},
   "source": [
    "### 1) Hostname:"
   ]
  },
  {
   "cell_type": "code",
   "execution_count": 21,
   "metadata": {},
   "outputs": [],
   "source": [
    "string = \"https://auth.sampleOrganaization.org/user/Chinmoy%20Lenka/articles?height=400&weight=20lb\""
   ]
  },
  {
   "cell_type": "code",
   "execution_count": 25,
   "metadata": {},
   "outputs": [
    {
     "data": {
      "text/plain": [
       "'https://auth.sampleorganaization.org'"
      ]
     },
     "execution_count": 25,
     "metadata": {},
     "output_type": "execute_result"
    }
   ],
   "source": [
    "parsed = urlparse(string)\n",
    "host = parsed.scheme + \"://\" + parsed.hostname\n",
    "host"
   ]
  },
  {
   "cell_type": "markdown",
   "metadata": {},
   "source": [
    "### 2) Cleaned path (without any auth or query parameters)"
   ]
  },
  {
   "cell_type": "code",
   "execution_count": 28,
   "metadata": {},
   "outputs": [
    {
     "data": {
      "text/plain": [
       "'https://auth.sampleorganaization.org/user/Chinmoy%20Lenka/articles'"
      ]
     },
     "execution_count": 28,
     "metadata": {},
     "output_type": "execute_result"
    }
   ],
   "source": [
    "cleaned_path = parsed.scheme + \"://\" + parsed.hostname + parsed.path\n",
    "cleaned_path"
   ]
  },
  {
   "cell_type": "markdown",
   "metadata": {},
   "source": [
    "### 3) Query params"
   ]
  },
  {
   "cell_type": "code",
   "execution_count": 34,
   "metadata": {},
   "outputs": [
    {
     "data": {
      "text/plain": [
       "[('?', 'height', '400'), ('&', 'weight', '20lb')]"
      ]
     },
     "execution_count": 34,
     "metadata": {},
     "output_type": "execute_result"
    }
   ],
   "source": [
    "query_pattern = \"(\\?|\\&)([^=]+)\\=([^&]+)\"\n",
    "all_queries = re.findall(query_pattern, string)\n",
    "all_queries"
   ]
  },
  {
   "cell_type": "code",
   "execution_count": 37,
   "metadata": {},
   "outputs": [],
   "source": [
    "# returning these key value pairs\n",
    "queries = [{x[1] : x[2] for x in all_queries}]"
   ]
  },
  {
   "cell_type": "code",
   "execution_count": 38,
   "metadata": {},
   "outputs": [
    {
     "data": {
      "text/plain": [
       "[{'height': '400', 'weight': '20lb'}]"
      ]
     },
     "execution_count": 38,
     "metadata": {},
     "output_type": "execute_result"
    }
   ],
   "source": [
    "queries"
   ]
  },
  {
   "cell_type": "markdown",
   "metadata": {},
   "source": [
    "### Ideas to return all the things\n",
    "For a column that contains the URLS, we can add a BOOLEAN parameter in the `clean_url` called `details` if it is selected `True` then we will return everything as a JSON(dictionary datatype). Else we will only return the cleaned url.\n",
    "\n",
    "For example:\n",
    "url_string = \"https://auth.sampleOrganaization.org/user/Chinmoy%20Lenka/articles?height=400&weight=20lb\"\n",
    "\n",
    "#### without the BOOLEAN parameter\n",
    "`clean_url(url_string)` --> will return `'https://auth.sampleorganaization.org/user/Chinmoy%20Lenka/articles'`\n",
    "\n",
    "#### with the BOOLEAN parameter set to `True`\n",
    "`clean_url(url_string, details=True)` --> this will return a JSON/Dictionary as follows:\n",
    "\n",
    "                  { \n",
    "                   hostname : https://auth.sampleorganaization.org,\n",
    "                   \n",
    "                   cleaned_url: https://auth.sampleorganaization.org/user/Chinmoy%20Lenka/articles ,\n",
    "                   \n",
    "                   queries : {'height': '400', 'weight': '20lb'}\n",
    "                   }"
   ]
  },
  {
   "cell_type": "code",
   "execution_count": null,
   "metadata": {},
   "outputs": [],
   "source": []
  }
 ],
 "metadata": {
  "kernelspec": {
   "display_name": "Python 3",
   "language": "python",
   "name": "python3"
  },
  "language_info": {
   "codemirror_mode": {
    "name": "ipython",
    "version": 3
   },
   "file_extension": ".py",
   "mimetype": "text/x-python",
   "name": "python",
   "nbconvert_exporter": "python",
   "pygments_lexer": "ipython3",
   "version": "3.8.2"
  }
 },
 "nbformat": 4,
 "nbformat_minor": 4
}
